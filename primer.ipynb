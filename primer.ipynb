{
  "nbformat": 4,
  "nbformat_minor": 0,
  "metadata": {
    "colab": {
      "name": "Colaboratory에 오신 것을 환영합니다",
      "provenance": [],
      "collapsed_sections": [],
      "include_colab_link": true
    },
    "kernelspec": {
      "display_name": "Python 3",
      "name": "python3"
    }
  },
  "cells": [
    {
      "cell_type": "markdown",
      "metadata": {
        "id": "view-in-github",
        "colab_type": "text"
      },
      "source": [
        "<a href=\"https://colab.research.google.com/github/suumino/project/blob/main/primer.ipynb\" target=\"_parent\"><img src=\"https://colab.research.google.com/assets/colab-badge.svg\" alt=\"Open In Colab\"/></a>"
      ]
    },
    {
      "cell_type": "code",
      "metadata": {
        "id": "hFZ9jD0wTF6W"
      },
      "source": [
        "def for_prm(sequence):\n",
        "    for_seq = sequence[:sequence.index('[')]\n",
        "\n",
        "    for_prm = []\n",
        "    Tm = []\n",
        "    Gc = []\n",
        "    i = 0\n",
        "\n",
        "    while i < len(for_seq)-20:   \n",
        "        a = for_seq[i:i+20]\n",
        "        gc = a.count('G') + a.count('C') / (a.count('a') + a.count('T') + a.count('G') + a.count('C')) * 100\n",
        "        tm = (4*(a.count('G')+a.count('C'))) + (2*(a.count('A')+a.count('T'))) \n",
        "            \n",
        "        if 40 <= tm <= 60 and 50 <= gc <= 60: \n",
        "            for_prm.append(a)\n",
        "            Tm.append(tm)\n",
        "            Gc.append(gc)\n",
        "            i += 4\n",
        "            i += 1\n",
        "    return for_prm[0]\n"
      ],
      "execution_count": null,
      "outputs": []
    },
    {
      "cell_type": "code",
      "metadata": {
        "id": "wBezagXNTL7p"
      },
      "source": [
        "def for_Tm(sequence):\n",
        "    for_seq = sequence[:sequence.index('[')]\n",
        "\n",
        "    for_prm = []\n",
        "    Tm = []\n",
        "    Gc = []\n",
        "    i = 0\n",
        "\n",
        "    while i < len(for_seq)-20:   \n",
        "        a = for_seq[i:i+20]\n",
        "        gc = a.count('G') + a.count('C') / (a.count('a') + a.count('T') + a.count('G') + a.count('C')) * 100\n",
        "        tm = (4*(a.count('G')+a.count('C'))) + (2*(a.count('A')+a.count('T'))) \n",
        "            \n",
        "        if 40 <= tm <= 60 and 50 <= gc <= 60: \n",
        "            for_prm.append(a)\n",
        "            Tm.append(tm)\n",
        "            Gc.append(gc)\n",
        "            i += 4\n",
        "            i += 1\n",
        "    return Tm[0]"
      ],
      "execution_count": null,
      "outputs": []
    },
    {
      "cell_type": "code",
      "metadata": {
        "id": "GW09oXaJTMIj"
      },
      "source": [
        "def for_Gc(sequence):\n",
        "    for_seq = sequence[:sequence.index('[')]\n",
        "\n",
        "    for_prm = []\n",
        "    Tm = []\n",
        "    Gc = []\n",
        "    i = 0\n",
        "\n",
        "    while i < len(for_seq)-20:   \n",
        "        a = for_seq[i:i+20]\n",
        "        gc = a.count('G') + a.count('C') / (a.count('a') + a.count('T') + a.count('G') + a.count('C')) * 100\n",
        "        tm = (4*(a.count('G')+a.count('C'))) + (2*(a.count('A')+a.count('T'))) \n",
        "            \n",
        "        if 40 <= tm <= 60 and 50 <= gc <= 60: \n",
        "            for_prm.append(a)\n",
        "            Tm.append(tm)\n",
        "            Gc.append(gc)\n",
        "            i += 4\n",
        "            i += 1\n",
        "    return Gc[0]"
      ],
      "execution_count": null,
      "outputs": []
    },
    {
      "cell_type": "code",
      "metadata": {
        "id": "zcpHoEApTMPQ"
      },
      "source": [
        "\n",
        "\n",
        "\n",
        "def rev_prm(sequence):\n",
        "    rev_seq = sequence[sequence.index(']')+1:]\n",
        "    \n",
        "    pre_prm = []\n",
        "    Tm = []\n",
        "    Gc = []\n",
        "    i = 0\n",
        "    \n",
        "    while i < len(rev_seq)-20:   \n",
        "        a = rev_seq[i:i+20]\n",
        "        gc = a.count('G') + a.count('C') / (a.count('a') + a.count('T') + a.count('G') + a.count('C')) * 100\n",
        "        tm = (4*(a.count('G')+a.count('C'))) + (2*(a.count('A')+a.count('T')))   \n",
        "\n",
        "        if 40 <= tm <= 60 and 50 <= gc <= 60: \n",
        "            pre_prm.append(a)\n",
        "            Tm.append(tm)\n",
        "            Gc.append(gc)\n",
        "            i += 4\n",
        "            i += 1\n",
        "\n",
        "    rev_prm =  []\n",
        "    for i in range(len(pre_prm)):\n",
        "        rev_prm.append('')\n",
        "        for j in range(len(pre_prm[i])):\n",
        "            if pre_prm[i][j] == 'C':  rev_prm[i] += ('G')\n",
        "            elif pre_prm[i][j] == 'G':  rev_prm[i] += ('C')\n",
        "            elif pre_prm[i][j] == 'A':  rev_prm[i] += ('T')\n",
        "            elif pre_prm[i][j] == 'T':  rev_prm[i] += ('A')\n",
        "        rev_prm[i] = ''.join(reversed(rev_prm[i]))\n",
        "    \n",
        "\n",
        "    return rev_prm[0]"
      ],
      "execution_count": null,
      "outputs": []
    },
    {
      "cell_type": "code",
      "metadata": {
        "id": "lycXCc-FWKkY"
      },
      "source": [
        "def rev_Tm(sequence):\n",
        "    rev_seq = sequence[sequence.index(']')+1:]\n",
        "    \n",
        "    pre_prm = []\n",
        "    Tm = []\n",
        "    Gc = []\n",
        "    i = 0\n",
        "    \n",
        "    while i < len(rev_seq)-20:   \n",
        "        a = rev_seq[i:i+20]\n",
        "        gc = a.count('G') + a.count('C') / (a.count('a') + a.count('T') + a.count('G') + a.count('C')) * 100\n",
        "        tm = (4*(a.count('G')+a.count('C'))) + (2*(a.count('A')+a.count('T')))   \n",
        "\n",
        "        if 40 <= tm <= 60 and 50 <= gc <= 60: \n",
        "            pre_prm.append(a)\n",
        "            Tm.append(tm)\n",
        "            Gc.append(gc)\n",
        "            i += 4\n",
        "            i += 1\n",
        "\n",
        "    rev_prm =  []\n",
        "    for i in range(len(pre_prm)):\n",
        "        rev_prm.append('')\n",
        "        for j in range(len(pre_prm[i])):\n",
        "            if pre_prm[i][j] == 'C':  rev_prm[i] += ('G')\n",
        "            elif pre_prm[i][j] == 'G':  rev_prm[i] += ('C')\n",
        "            elif pre_prm[i][j] == 'A':  rev_prm[i] += ('T')\n",
        "            elif pre_prm[i][j] == 'T':  rev_prm[i] += ('A')\n",
        "        rev_prm[i] = ''.join(reversed(rev_prm[i]))\n",
        "    \n",
        "\n",
        "    return Tm[0]"
      ],
      "execution_count": null,
      "outputs": []
    },
    {
      "cell_type": "code",
      "metadata": {
        "id": "xQU19d2dWKmi"
      },
      "source": [
        "def rev_Gc(sequence):\n",
        "    rev_seq = sequence[sequence.index(']')+1:]\n",
        "    \n",
        "    pre_prm = []\n",
        "    Tm = []\n",
        "    Gc = []\n",
        "    i = 0\n",
        "    \n",
        "    while i < len(rev_seq)-20:   \n",
        "        a = rev_seq[i:i+20]\n",
        "        gc = a.count('G') + a.count('C') / (a.count('a') + a.count('T') + a.count('G') + a.count('C')) * 100\n",
        "        tm = (4*(a.count('G')+a.count('C'))) + (2*(a.count('A')+a.count('T')))   \n",
        "\n",
        "        if 40 <= tm <= 60 and 50 <= gc <= 60: \n",
        "            pre_prm.append(a)\n",
        "            Tm.append(tm)\n",
        "            Gc.append(gc)\n",
        "            i += 4\n",
        "            i += 1\n",
        "\n",
        "    rev_prm =  []\n",
        "    for i in range(len(pre_prm)):\n",
        "        rev_prm.append('')\n",
        "        for j in range(len(pre_prm[i])):\n",
        "            if pre_prm[i][j] == 'C':  rev_prm[i] += ('G')\n",
        "            elif pre_prm[i][j] == 'G':  rev_prm[i] += ('C')\n",
        "            elif pre_prm[i][j] == 'A':  rev_prm[i] += ('T')\n",
        "            elif pre_prm[i][j] == 'T':  rev_prm[i] += ('A')\n",
        "        rev_prm[i] = ''.join(reversed(rev_prm[i]))\n",
        "    \n",
        "\n",
        "    return Gc[0]"
      ],
      "execution_count": null,
      "outputs": []
    }
  ]
}